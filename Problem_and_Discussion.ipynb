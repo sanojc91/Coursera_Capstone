{
 "cells": [
  {
   "cell_type": "markdown",
   "metadata": {
    "collapsed": true
   },
   "source": [
    "<h1 align=\"center\"><font size=\"5\">Collisions in Seattle</font></h1>"
   ]
  },
  {
   "cell_type": "markdown",
   "metadata": {},
   "source": [
    "<hr>\n",
    "\n",
    "<h2><font size=4>Problem and Discussion</h2>"
   ]
  },
  {
   "cell_type": "markdown",
   "metadata": {},
   "source": [
    "<p>In 2019, an estimated 38,800 people lost their lives to car crashes, in 2018 39,404 deaths and in 2017 40,231 deaths. About 4.4 million people were injured seriously enough to require medical attention in crashes last year. Thousands of lives and millions of dollars lost due to accidents and collations per year. This makes travelling risky and unsafe. But if we could identify the factors that tolerate collisions to occur, we can prevent them from occurring or at least reduce them. \n",
    "</p>"
   ]
  },
  {
   "cell_type": "markdown",
   "metadata": {},
   "source": [
    "<h2><font size=4>Target audience </h2>"
   ]
  },
  {
   "cell_type": "markdown",
   "metadata": {},
   "source": [
    "<p>By using this study results recidents within Seattel can be notified with the results to inprove their knowladge in the tollerence for accidents and make a systematic procedure to notify drivers about the risk associated with specific conditions that we studied during this project</p>"
   ]
  },
  {
   "cell_type": "code",
   "execution_count": null,
   "metadata": {},
   "outputs": [],
   "source": []
  }
 ],
 "metadata": {
  "kernelspec": {
   "display_name": "Python 3",
   "language": "python",
   "name": "python3"
  },
  "language_info": {
   "codemirror_mode": {
    "name": "ipython",
    "version": 3
   },
   "file_extension": ".py",
   "mimetype": "text/x-python",
   "name": "python",
   "nbconvert_exporter": "python",
   "pygments_lexer": "ipython3",
   "version": "3.7.6"
  }
 },
 "nbformat": 4,
 "nbformat_minor": 1
}
